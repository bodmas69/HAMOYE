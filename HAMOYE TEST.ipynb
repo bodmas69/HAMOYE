{
 "cells": [
  {
   "cell_type": "code",
   "execution_count": 1,
   "metadata": {},
   "outputs": [],
   "source": [
    "import numpy as np\n",
    "import pandas as pd\n",
    "import matplotlib.pyplot as plt\n"
   ]
  },
  {
   "cell_type": "code",
   "execution_count": 2,
   "metadata": {},
   "outputs": [],
   "source": [
    "import numpy as np\n",
    "import pandas as pd\n",
    "import matplotlib.pyplot as plt\n"
   ]
  },
  {
   "cell_type": "code",
   "execution_count": 3,
   "metadata": {},
   "outputs": [
    {
     "name": "stdout",
     "output_type": "stream",
     "text": [
      "[1, 2, 3, [4, 5]]\n",
      "[4, 5]\n",
      "[1, 2, 3, [4, 5], 4, 5]\n"
     ]
    }
   ],
   "source": [
    "# Q1\n",
    "a = [1, 2, 3]\n",
    "b = [4, 5]\n",
    "a.append(b)\n",
    "print(a)\n",
    "a.extend(b)\n",
    "print(b)\n",
    "print(a)"
   ]
  },
  {
   "cell_type": "code",
   "execution_count": 4,
   "metadata": {},
   "outputs": [
    {
     "name": "stdout",
     "output_type": "stream",
     "text": [
      "[[1. 0. 0.]\n",
      " [0. 1. 0.]\n",
      " [0. 0. 1.]]\n"
     ]
    }
   ],
   "source": [
    "# Q2\n",
    "print(np.identity(3))"
   ]
  },
  {
   "cell_type": "code",
   "execution_count": 5,
   "metadata": {},
   "outputs": [],
   "source": [
    "df = pd.read_csv('fuel_ferc1.csv')"
   ]
  },
  {
   "cell_type": "code",
   "execution_count": 6,
   "metadata": {},
   "outputs": [
    {
     "name": "stdout",
     "output_type": "stream",
     "text": [
      "10.6 17.01\n"
     ]
    }
   ],
   "source": [
    "# Q4\n",
    "sd1=df['fuel_mmbtu_per_unit'].std()\n",
    "perf75=df['fuel_mmbtu_per_unit'].quantile(.75)\n",
    "print(np.round(sd1, decimals=2),np.round(perf75,decimals=2))"
   ]
  },
  {
   "cell_type": "code",
   "execution_count": 7,
   "metadata": {},
   "outputs": [
    {
     "name": "stdout",
     "output_type": "stream",
     "text": [
      "15.85 651.37\n"
     ]
    }
   ],
   "source": [
    "# Q5 \n",
    "skew1=df.skew()['fuel_qty_burned']\n",
    "kurs1=df.kurtosis()['fuel_qty_burned']\n",
    "print(np.round(skew1, decimals=2), np.round(kurs1, decimals=2))"
   ]
  },
  {
   "cell_type": "code",
   "execution_count": 8,
   "metadata": {},
   "outputs": [
    {
     "name": "stdout",
     "output_type": "stream",
     "text": [
      "1997    11140.197239\n",
      "2004      139.524275\n",
      "1996     9196.705948\n",
      "2009      652.694163\n",
      "2018      499.269966\n",
      "dtype: float64\n",
      "11140.19723948813\n"
     ]
    }
   ],
   "source": [
    "# average cost per unit delivered for each year will be mean of all the costs\n",
    "df1 = df.loc[df['report_year'] == 1997]\n",
    "dfm1=df1['fuel_cost_per_unit_delivered'].mean()\n",
    "# 2004\n",
    "df2 = df.loc[df['report_year'] == 2004]\n",
    "dfm2=df2['fuel_cost_per_unit_delivered'].mean()\n",
    "# 1996\n",
    "df3 = df[df['report_year'] == 1996]\n",
    "dfm3=df3['fuel_cost_per_unit_delivered'].mean()\n",
    "# 2009\n",
    "df4 = df.loc[df['report_year'] == 2009]\n",
    "dfm4=df4['fuel_cost_per_unit_delivered'].mean()\n",
    "# 2018\n",
    "df5 = df.loc[df['report_year'] == 2018]\n",
    "dfm5=df5['fuel_cost_per_unit_delivered'].mean()\n",
    "\n",
    "#save to a series and get max\n",
    "ds = pd.Series([dfm1,dfm2,dfm3,dfm4,dfm5], index=[1997, 2004, 1996, 2009, 2018])\n",
    "print(ds)\n",
    "\n",
    "# minimum value using the max method\n",
    "print(ds.max())"
   ]
  },
  {
   "cell_type": "code",
   "execution_count": null,
   "metadata": {},
   "outputs": [],
   "source": []
  }
 ],
 "metadata": {
  "kernelspec": {
   "display_name": "Python 3",
   "language": "python",
   "name": "python3"
  },
  "language_info": {
   "codemirror_mode": {
    "name": "ipython",
    "version": 3
   },
   "file_extension": ".py",
   "mimetype": "text/x-python",
   "name": "python",
   "nbconvert_exporter": "python",
   "pygments_lexer": "ipython3",
   "version": "3.7.6"
  }
 },
 "nbformat": 4,
 "nbformat_minor": 4
}
